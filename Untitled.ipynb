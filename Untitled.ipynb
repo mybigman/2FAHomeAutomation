{
 "cells": [
  {
   "cell_type": "markdown",
   "metadata": {},
   "source": [
    "#### HELPER FUNCTION WILL GENERATE A QR CODE AND THE PROVISIONING URI FOR YOU TO USE WITH AN AUTHENTICATION APP"
   ]
  },
  {
   "cell_type": "code",
   "execution_count": 52,
   "metadata": {},
   "outputs": [
    {
     "name": "stdout",
     "output_type": "stream",
     "text": [
      "SECRET KEY:  6FMHXYBDBKSJ4RBW\n",
      "PROVISIONING_URL:  otpauth://totp/Secure%20App:alice%40google.com?secret=6FMHXYBDBKSJ4RBW&issuer=Secure%20App\n",
      "SCAN QR CODE:\n"
     ]
    },
    {
     "data": {
      "image/png": "[encoded data removed]",
      "text/plain": [
       "<qrcode.image.pil.PilImage at 0x107f472d0>"
      ]
     },
     "execution_count": 52,
     "metadata": {},
     "output_type": "execute_result"
    }
   ],
   "source": [
    "import pyotp\n",
    "import pyqrcode\n",
    "import qrcode\n",
    "key=pyotp.random_base32()\n",
    "totp=pyotp.TOTP(key)\n",
    "uri=pyotp.totp.TOTP(key).provisioning_uri(\"alice@google.com\", issuer_name=\"Secure App\")\n",
    "print('SECRET KEY: ',key)\n",
    "print('PROVISIONING_URL: ', uri)\n",
    "img = qrcode.make(uri)\n",
    "print('SCAN QR CODE:')\n",
    "img"
   ]
  },
  {
   "cell_type": "markdown",
   "metadata": {},
   "source": [
    "#### INSERT YOUR KEY BELOW"
   ]
  },
  {
   "cell_type": "code",
   "execution_count": 55,
   "metadata": {},
   "outputs": [
    {
     "name": "stdout",
     "output_type": "stream",
     "text": [
      "Enter Code: 252027\n",
      "Authenticated\n"
     ]
    }
   ],
   "source": [
    "import paho.mqtt.client as mqtt\n",
    "import pyotp\n",
    "import os\n",
    "import requests\n",
    "import time\n",
    "\n",
    "client = mqtt.Client()\n",
    "client.username_pw_set(os.environ.get('MQTT_USERNAME'), os.environ.get('MQTT_PW'))\n",
    "client.connect(os.environ.get('MQTT_HOST'), 1883, 60)\n",
    "SECRET_KEY='6FMHXYBDBKSJ4RBW'\n",
    "totp = pyotp.TOTP(SECRET_KEY)\n",
    "\n",
    "def getCommand():\n",
    "    requests.get('http://192.168.1.153/RELAY=OFF')\n",
    "    time.sleep(1)\n",
    "    requests.get('http://192.168.1.153/RELAY=ON')\n",
    "\n",
    "code=input('Enter Code: ')\n",
    "#code='012345'\n",
    "\n",
    "validated=totp.verify(code)\n",
    "if validated:\n",
    "    print('Authenticated')\n",
    "    #client.publish(\"sensor/LIVING ROOM/open\",\"OPEN\")\n",
    "    getCommand()\n",
    "else:\n",
    "    print('Not Authenticated')\n",
    "\n",
    "\n"
   ]
  },
  {
   "cell_type": "code",
   "execution_count": null,
   "metadata": {},
   "outputs": [],
   "source": []
  }
 ],
 "metadata": {
  "kernelspec": {
   "display_name": ".env",
   "language": "python",
   "name": ".env"
  },
  "language_info": {
   "codemirror_mode": {
    "name": "ipython",
    "version": 3
   },
   "file_extension": ".py",
   "mimetype": "text/x-python",
   "name": "python",
   "nbconvert_exporter": "python",
   "pygments_lexer": "ipython3",
   "version": "3.7.5"
  }
 },
 "nbformat": 4,
 "nbformat_minor": 2
}
